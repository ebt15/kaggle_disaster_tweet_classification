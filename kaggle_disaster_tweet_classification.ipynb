{
 "cells": [
  {
   "cell_type": "code",
   "execution_count": 83,
   "metadata": {},
   "outputs": [],
   "source": [
    "import pandas as pd\n",
    "from sklearn.model_selection import train_test_split\n",
    "from sklearn.feature_extraction.text import TfidfVectorizer\n",
    "from sklearn.naive_bayes import MultinomialNB\n",
    "from sklearn.pipeline import Pipeline\n",
    "from sklearn.metrics import accuracy_score, precision_score, recall_score, f1_score\n",
    "from sklearn.preprocessing import FunctionTransformer\n",
    "from keras.preprocessing.text import Tokenizer\n",
    "from keras_preprocessing.sequence import pad_sequences\n",
    "from keras.models import Sequential\n",
    "from keras.layers import Dense, Embedding, LSTM, SpatialDropout1D\n",
    "from keras.utils.np_utils import to_categorical"
   ]
  },
  {
   "cell_type": "code",
   "execution_count": 2,
   "metadata": {},
   "outputs": [],
   "source": [
    "import seaborn as sns\n",
    "import matplotlib.pyplot as plt"
   ]
  },
  {
   "cell_type": "code",
   "execution_count": 85,
   "metadata": {},
   "outputs": [],
   "source": [
    "# Load the data\n",
    "data = pd.read_csv('train.csv')"
   ]
  },
  {
   "cell_type": "code",
   "execution_count": 4,
   "metadata": {},
   "outputs": [
    {
     "name": "stdout",
     "output_type": "stream",
     "text": [
      "id             0\n",
      "keyword       61\n",
      "location    2533\n",
      "text           0\n",
      "target         0\n",
      "dtype: int64\n"
     ]
    }
   ],
   "source": [
    "# Check for missing values\n",
    "print(data.isnull().sum())"
   ]
  },
  {
   "cell_type": "code",
   "execution_count": 5,
   "metadata": {},
   "outputs": [
    {
     "data": {
      "image/png": "[encoded data removed]",
      "text/plain": [
       "<Figure size 640x480 with 1 Axes>"
      ]
     },
     "metadata": {},
     "output_type": "display_data"
    }
   ],
   "source": [
    "sns.countplot(x='target', data=data)\n",
    "plt.show()"
   ]
  },
  {
   "cell_type": "code",
   "execution_count": 6,
   "metadata": {},
   "outputs": [
    {
     "name": "stdout",
     "output_type": "stream",
     "text": [
      "0    4342\n",
      "1    3271\n",
      "Name: target, dtype: int64\n"
     ]
    }
   ],
   "source": [
    "# Check for class imbalance\n",
    "print(data['target'].value_counts())"
   ]
  },
  {
   "cell_type": "code",
   "execution_count": 7,
   "metadata": {},
   "outputs": [
    {
     "name": "stdout",
     "output_type": "stream",
     "text": [
      "Number of unique keywords: 221\n"
     ]
    }
   ],
   "source": [
    "# Check the number of unique keywords\n",
    "print(\"Number of unique keywords:\", data['keyword'].nunique())"
   ]
  },
  {
   "cell_type": "code",
   "execution_count": 8,
   "metadata": {},
   "outputs": [
    {
     "name": "stdout",
     "output_type": "stream",
     "text": [
      "Number of unique locations: 3341\n"
     ]
    }
   ],
   "source": [
    "# Check the number of unique locations\n",
    "print(\"Number of unique locations:\", data['location'].nunique())"
   ]
  },
  {
   "cell_type": "code",
   "execution_count": 9,
   "metadata": {},
   "outputs": [
    {
     "name": "stdout",
     "output_type": "stream",
     "text": [
      "count    7613.000000\n",
      "mean      101.037436\n",
      "std        33.781325\n",
      "min         7.000000\n",
      "25%        78.000000\n",
      "50%       107.000000\n",
      "75%       133.000000\n",
      "max       157.000000\n",
      "Name: text_length, dtype: float64\n"
     ]
    }
   ],
   "source": [
    "# Analyze the text length\n",
    "data['text_length'] = data['text'].apply(len)\n",
    "print(data['text_length'].describe())"
   ]
  },
  {
   "cell_type": "code",
   "execution_count": 10,
   "metadata": {},
   "outputs": [
    {
     "data": {
      "image/png": "[encoded data removed]",
      "text/plain": [
       "<Figure size 640x480 with 1 Axes>"
      ]
     },
     "metadata": {},
     "output_type": "display_data"
    }
   ],
   "source": [
    "# Visualize the text length per each class\n",
    "sns.boxplot(x='target', y='text_length', data=data)\n",
    "plt.show()"
   ]
  },
  {
   "cell_type": "code",
   "execution_count": 11,
   "metadata": {},
   "outputs": [],
   "source": [
    "from sklearn.feature_extraction.text import CountVectorizer"
   ]
  },
  {
   "cell_type": "code",
   "execution_count": 12,
   "metadata": {},
   "outputs": [
    {
     "name": "stdout",
     "output_type": "stream",
     "text": [
      "Most common words: [('http', 4309), ('https', 411), ('like', 348), ('û_', 348), ('amp', 344), ('just', 323), ('new', 226), ('people', 200), ('news', 197), ('don', 190)]\n"
     ]
    }
   ],
   "source": [
    "# Most common words in the text\n",
    "cv = CountVectorizer(stop_words='english')\n",
    "words = cv.fit_transform(data.text)\n",
    "sum_words = words.sum(axis=0)\n",
    "words_freq = [(word, sum_words[0, idx]) for word, idx in cv.vocabulary_.items()]\n",
    "words_freq = sorted(words_freq, key = lambda x: x[1], reverse=True)\n",
    "print('Most common words:', words_freq[:10])"
   ]
  },
  {
   "cell_type": "code",
   "execution_count": 13,
   "metadata": {},
   "outputs": [],
   "source": [
    "# Shuffle training dataframe\n",
    "data_shuffled = data.sample(frac=1, random_state=42) # shuffle with random_state=42 for reproducibility"
   ]
  },
  {
   "cell_type": "code",
   "execution_count": 14,
   "metadata": {},
   "outputs": [],
   "source": [
    "import re\n",
    "from nltk.corpus import stopwords\n",
    "from nltk.stem.porter import PorterStemmer\n",
    "\n",
    "def preprocess_text(sen):\n",
    "    # Remove urls\n",
    "    sentence = re.sub(r'http\\S+|www\\S+|https\\S+', '', sen, flags=re.MULTILINE)\n",
    "    # Remove user @ references and '#' from sentence\n",
    "    sentence = re.sub(r'\\@\\w+|\\#','', sentence)\n",
    "    # Remove punctuations and numbers\n",
    "    sentence = re.sub('[^a-zA-Z]', ' ', sentence)\n",
    "    # Single character removal\n",
    "    sentence = re.sub(r\"\\s+[a-zA-Z]\\s+\", ' ', sentence)\n",
    "    # Removing multiple spaces\n",
    "    sentence = re.sub(r'\\s+', ' ', sentence)\n",
    "    # Convert to lower case\n",
    "    sentence = sentence.lower()\n",
    "    # Remove stop words and perform stemming\n",
    "    sentence = sentence.split()\n",
    "    ps = PorterStemmer()\n",
    "    sentence = [\n",
    "        ps.stem(word)\n",
    "        for word in sentence\n",
    "        if word not in set(stopwords.words('english'))\n",
    "    ]\n",
    "    sentence = ' '.join(sentence)\n",
    "    return sentence"
   ]
  },
  {
   "cell_type": "code",
   "execution_count": 15,
   "metadata": {},
   "outputs": [
    {
     "data": {
      "text/html": [
       "<div>\n",
       "<style scoped>\n",
       "    .dataframe tbody tr th:only-of-type {\n",
       "        vertical-align: middle;\n",
       "    }\n",
       "\n",
       "    .dataframe tbody tr th {\n",
       "        vertical-align: top;\n",
       "    }\n",
       "\n",
       "    .dataframe thead th {\n",
       "        text-align: right;\n",
       "    }\n",
       "</style>\n",
       "<table border=\"1\" class=\"dataframe\">\n",
       "  <thead>\n",
       "    <tr style=\"text-align: right;\">\n",
       "      <th></th>\n",
       "      <th>id</th>\n",
       "      <th>keyword</th>\n",
       "      <th>location</th>\n",
       "      <th>text</th>\n",
       "      <th>target</th>\n",
       "      <th>text_length</th>\n",
       "    </tr>\n",
       "  </thead>\n",
       "  <tbody>\n",
       "    <tr>\n",
       "      <th>2644</th>\n",
       "      <td>3796</td>\n",
       "      <td>destruction</td>\n",
       "      <td>NaN</td>\n",
       "      <td>So you have a new weapon that can cause un-ima...</td>\n",
       "      <td>1</td>\n",
       "      <td>66</td>\n",
       "    </tr>\n",
       "    <tr>\n",
       "      <th>2227</th>\n",
       "      <td>3185</td>\n",
       "      <td>deluge</td>\n",
       "      <td>NaN</td>\n",
       "      <td>The f$&amp;amp;@ing things I do for #GISHWHES Just...</td>\n",
       "      <td>0</td>\n",
       "      <td>119</td>\n",
       "    </tr>\n",
       "    <tr>\n",
       "      <th>5448</th>\n",
       "      <td>7769</td>\n",
       "      <td>police</td>\n",
       "      <td>UK</td>\n",
       "      <td>DT @georgegalloway: RT @Galloway4Mayor: ÛÏThe...</td>\n",
       "      <td>1</td>\n",
       "      <td>125</td>\n",
       "    </tr>\n",
       "    <tr>\n",
       "      <th>132</th>\n",
       "      <td>191</td>\n",
       "      <td>aftershock</td>\n",
       "      <td>NaN</td>\n",
       "      <td>Aftershock back to school kick off was great. ...</td>\n",
       "      <td>0</td>\n",
       "      <td>114</td>\n",
       "    </tr>\n",
       "    <tr>\n",
       "      <th>6845</th>\n",
       "      <td>9810</td>\n",
       "      <td>trauma</td>\n",
       "      <td>Montgomery County, MD</td>\n",
       "      <td>in response to trauma Children of Addicts deve...</td>\n",
       "      <td>0</td>\n",
       "      <td>105</td>\n",
       "    </tr>\n",
       "  </tbody>\n",
       "</table>\n",
       "</div>"
      ],
      "text/plain": [
       "        id      keyword               location  \\\n",
       "2644  3796  destruction                    NaN   \n",
       "2227  3185       deluge                    NaN   \n",
       "5448  7769       police                     UK   \n",
       "132    191   aftershock                    NaN   \n",
       "6845  9810       trauma  Montgomery County, MD   \n",
       "\n",
       "                                                   text  target  text_length  \n",
       "2644  So you have a new weapon that can cause un-ima...       1           66  \n",
       "2227  The f$&amp;@ing things I do for #GISHWHES Just...       0          119  \n",
       "5448  DT @georgegalloway: RT @Galloway4Mayor: ÛÏThe...       1          125  \n",
       "132   Aftershock back to school kick off was great. ...       0          114  \n",
       "6845  in response to trauma Children of Addicts deve...       0          105  "
      ]
     },
     "execution_count": 15,
     "metadata": {},
     "output_type": "execute_result"
    }
   ],
   "source": [
    "data_shuffled.head()"
   ]
  },
  {
   "cell_type": "code",
   "execution_count": 16,
   "metadata": {},
   "outputs": [],
   "source": [
    "data_shuffled['text'] = data_shuffled['text'].apply(preprocess_text)"
   ]
  },
  {
   "cell_type": "code",
   "execution_count": 45,
   "metadata": {},
   "outputs": [
    {
     "name": "stdout",
     "output_type": "stream",
     "text": [
      "Most common words: [('like', 411), ('amp', 344), ('bomb', 239), ('new', 227), ('news', 207), ('peopl', 200), ('time', 181), ('kill', 181), ('burn', 180), ('year', 178)]\n"
     ]
    }
   ],
   "source": [
    "# Most common words in the text\n",
    "cv = CountVectorizer(stop_words='english')\n",
    "words = cv.fit_transform(df.text)\n",
    "sum_words = words.sum(axis=0)\n",
    "words_freq = [(word, sum_words[0, idx]) for word, idx in cv.vocabulary_.items()]\n",
    "words_freq = sorted(words_freq, key = lambda x: x[1], reverse=True)\n",
    "print('Most common words:', words_freq[:10])"
   ]
  },
  {
   "cell_type": "code",
   "execution_count": 27,
   "metadata": {},
   "outputs": [],
   "source": [
    "from sklearn.feature_extraction.text import CountVectorizer"
   ]
  },
  {
   "cell_type": "code",
   "execution_count": 28,
   "metadata": {},
   "outputs": [],
   "source": [
    "X = data_shuffled['text']\n",
    "y = data_shuffled['target']\n",
    "X_train, X_test, y_train, y_test = train_test_split(X, y, test_size=0.1, random_state=42)"
   ]
  },
  {
   "cell_type": "code",
   "execution_count": 29,
   "metadata": {},
   "outputs": [
    {
     "data": {
      "text/html": [
       "<style>#sk-container-id-2 {color: black;background-color: white;}#sk-container-id-2 pre{padding: 0;}#sk-container-id-2 div.sk-toggleable {background-color: white;}#sk-container-id-2 label.sk-toggleable__label {cursor: pointer;display: block;width: 100%;margin-bottom: 0;padding: 0.3em;box-sizing: border-box;text-align: center;}#sk-container-id-2 label.sk-toggleable__label-arrow:before {content: \"▸\";float: left;margin-right: 0.25em;color: #696969;}#sk-container-id-2 label.sk-toggleable__label-arrow:hover:before {color: black;}#sk-container-id-2 div.sk-estimator:hover label.sk-toggleable__label-arrow:before {color: black;}#sk-container-id-2 div.sk-toggleable__content {max-height: 0;max-width: 0;overflow: hidden;text-align: left;background-color: #f0f8ff;}#sk-container-id-2 div.sk-toggleable__content pre {margin: 0.2em;color: black;border-radius: 0.25em;background-color: #f0f8ff;}#sk-container-id-2 input.sk-toggleable__control:checked~div.sk-toggleable__content {max-height: 200px;max-width: 100%;overflow: auto;}#sk-container-id-2 input.sk-toggleable__control:checked~label.sk-toggleable__label-arrow:before {content: \"▾\";}#sk-container-id-2 div.sk-estimator input.sk-toggleable__control:checked~label.sk-toggleable__label {background-color: #d4ebff;}#sk-container-id-2 div.sk-label input.sk-toggleable__control:checked~label.sk-toggleable__label {background-color: #d4ebff;}#sk-container-id-2 input.sk-hidden--visually {border: 0;clip: rect(1px 1px 1px 1px);clip: rect(1px, 1px, 1px, 1px);height: 1px;margin: -1px;overflow: hidden;padding: 0;position: absolute;width: 1px;}#sk-container-id-2 div.sk-estimator {font-family: monospace;background-color: #f0f8ff;border: 1px dotted black;border-radius: 0.25em;box-sizing: border-box;margin-bottom: 0.5em;}#sk-container-id-2 div.sk-estimator:hover {background-color: #d4ebff;}#sk-container-id-2 div.sk-parallel-item::after {content: \"\";width: 100%;border-bottom: 1px solid gray;flex-grow: 1;}#sk-container-id-2 div.sk-label:hover label.sk-toggleable__label {background-color: #d4ebff;}#sk-container-id-2 div.sk-serial::before {content: \"\";position: absolute;border-left: 1px solid gray;box-sizing: border-box;top: 0;bottom: 0;left: 50%;z-index: 0;}#sk-container-id-2 div.sk-serial {display: flex;flex-direction: column;align-items: center;background-color: white;padding-right: 0.2em;padding-left: 0.2em;position: relative;}#sk-container-id-2 div.sk-item {position: relative;z-index: 1;}#sk-container-id-2 div.sk-parallel {display: flex;align-items: stretch;justify-content: center;background-color: white;position: relative;}#sk-container-id-2 div.sk-item::before, #sk-container-id-2 div.sk-parallel-item::before {content: \"\";position: absolute;border-left: 1px solid gray;box-sizing: border-box;top: 0;bottom: 0;left: 50%;z-index: -1;}#sk-container-id-2 div.sk-parallel-item {display: flex;flex-direction: column;z-index: 1;position: relative;background-color: white;}#sk-container-id-2 div.sk-parallel-item:first-child::after {align-self: flex-end;width: 50%;}#sk-container-id-2 div.sk-parallel-item:last-child::after {align-self: flex-start;width: 50%;}#sk-container-id-2 div.sk-parallel-item:only-child::after {width: 0;}#sk-container-id-2 div.sk-dashed-wrapped {border: 1px dashed gray;margin: 0 0.4em 0.5em 0.4em;box-sizing: border-box;padding-bottom: 0.4em;background-color: white;}#sk-container-id-2 div.sk-label label {font-family: monospace;font-weight: bold;display: inline-block;line-height: 1.2em;}#sk-container-id-2 div.sk-label-container {text-align: center;}#sk-container-id-2 div.sk-container {/* jupyter's `normalize.less` sets `[hidden] { display: none; }` but bootstrap.min.css set `[hidden] { display: none !important; }` so we also need the `!important` here to be able to override the default hidden behavior on the sphinx rendered scikit-learn.org. See: https://github.com/scikit-learn/scikit-learn/issues/21755 */display: inline-block !important;position: relative;}#sk-container-id-2 div.sk-text-repr-fallback {display: none;}</style><div id=\"sk-container-id-2\" class=\"sk-top-container\"><div class=\"sk-text-repr-fallback\"><pre>Pipeline(steps=[(&#x27;tfidf&#x27;, TfidfVectorizer()), (&#x27;clf&#x27;, MultinomialNB())])</pre><b>In a Jupyter environment, please rerun this cell to show the HTML representation or trust the notebook. <br />On GitHub, the HTML representation is unable to render, please try loading this page with nbviewer.org.</b></div><div class=\"sk-container\" hidden><div class=\"sk-item sk-dashed-wrapped\"><div class=\"sk-label-container\"><div class=\"sk-label sk-toggleable\"><input class=\"sk-toggleable__control sk-hidden--visually\" id=\"sk-estimator-id-2\" type=\"checkbox\" ><label for=\"sk-estimator-id-2\" class=\"sk-toggleable__label sk-toggleable__label-arrow\">Pipeline</label><div class=\"sk-toggleable__content\"><pre>Pipeline(steps=[(&#x27;tfidf&#x27;, TfidfVectorizer()), (&#x27;clf&#x27;, MultinomialNB())])</pre></div></div></div><div class=\"sk-serial\"><div class=\"sk-item\"><div class=\"sk-estimator sk-toggleable\"><input class=\"sk-toggleable__control sk-hidden--visually\" id=\"sk-estimator-id-3\" type=\"checkbox\" ><label for=\"sk-estimator-id-3\" class=\"sk-toggleable__label sk-toggleable__label-arrow\">TfidfVectorizer</label><div class=\"sk-toggleable__content\"><pre>TfidfVectorizer()</pre></div></div></div><div class=\"sk-item\"><div class=\"sk-estimator sk-toggleable\"><input class=\"sk-toggleable__control sk-hidden--visually\" id=\"sk-estimator-id-4\" type=\"checkbox\" ><label for=\"sk-estimator-id-4\" class=\"sk-toggleable__label sk-toggleable__label-arrow\">MultinomialNB</label><div class=\"sk-toggleable__content\"><pre>MultinomialNB()</pre></div></div></div></div></div></div></div>"
      ],
      "text/plain": [
       "Pipeline(steps=[('tfidf', TfidfVectorizer()), ('clf', MultinomialNB())])"
      ]
     },
     "execution_count": 29,
     "metadata": {},
     "output_type": "execute_result"
    }
   ],
   "source": [
    "model_01 = Pipeline([\n",
    "    ('tfidf', TfidfVectorizer()),\n",
    "    ('clf', MultinomialNB()),\n",
    "])\n",
    "\n",
    "# Train the model\n",
    "model_01.fit(X_train, y_train)"
   ]
  },
  {
   "cell_type": "code",
   "execution_count": 30,
   "metadata": {},
   "outputs": [],
   "source": [
    "# Predict the labels\n",
    "y_pred = model_01.predict(X_test)"
   ]
  },
  {
   "cell_type": "code",
   "execution_count": 31,
   "metadata": {},
   "outputs": [],
   "source": [
    "def calculate_scores(y_test, y_pred):\n",
    "    # Calculate the scores\n",
    "    accuracy = accuracy_score(y_test, y_pred)\n",
    "    precision = precision_score(y_test, y_pred, average='weighted')\n",
    "    recall = recall_score(y_test, y_pred, average='weighted')\n",
    "    f1 = f1_score(y_test, y_pred, average='weighted')\n",
    "    \n",
    "    print(\"Accuracy:\", accuracy)\n",
    "    print(\"Precision:\", precision)\n",
    "    print(\"Recall:\", recall)\n",
    "    print(\"F1 Score:\", f1) \n",
    "\n",
    "    return {\n",
    "        \"Accuracy\": accuracy,\n",
    "        \"Precision\": precision,\n",
    "        \"Recall\": recall,\n",
    "        \"F1 Score\": f1,\n",
    "    }"
   ]
  },
  {
   "cell_type": "code",
   "execution_count": 32,
   "metadata": {},
   "outputs": [
    {
     "name": "stdout",
     "output_type": "stream",
     "text": [
      "Accuracy: 0.8031496062992126\n",
      "Precision: 0.8138788984085914\n",
      "Recall: 0.8031496062992126\n",
      "F1 Score: 0.7990389367128067\n"
     ]
    }
   ],
   "source": [
    "baseline_model_results_01 = calculate_scores(y_test, y_pred)"
   ]
  },
  {
   "cell_type": "code",
   "execution_count": 33,
   "metadata": {},
   "outputs": [],
   "source": [
    "# Tokenize and pad the text data\n",
    "max_words = 10000\n",
    "max_len = 100\n",
    "tokenizer = Tokenizer(num_words=max_words, oov_token=\"<OOV>\")\n",
    "tokenizer.fit_on_texts(X)\n",
    "sequences = tokenizer.texts_to_sequences(X)\n",
    "padded_sequences = pad_sequences(sequences, maxlen=max_len, padding=\"post\", truncating=\"post\")"
   ]
  },
  {
   "cell_type": "code",
   "execution_count": 34,
   "metadata": {},
   "outputs": [],
   "source": [
    "# Split the dataset into training and validation sets\n",
    "X_train, X_val, y_train, y_val = train_test_split(padded_sequences, y, test_size=0.2, random_state=42)"
   ]
  },
  {
   "cell_type": "code",
   "execution_count": 35,
   "metadata": {},
   "outputs": [],
   "source": [
    "from tensorflow.keras.layers import GlobalAveragePooling1D"
   ]
  },
  {
   "cell_type": "code",
   "execution_count": 36,
   "metadata": {},
   "outputs": [],
   "source": [
    "# Create the dense model\n",
    "model_02 = Sequential([\n",
    "    Embedding(max_words, 32, input_length=max_len),\n",
    "    GlobalAveragePooling1D(),\n",
    "    Dense(32, activation=\"relu\"),\n",
    "    Dense(1, activation=\"sigmoid\")\n",
    "], name=\"DenseModel\")"
   ]
  },
  {
   "cell_type": "code",
   "execution_count": 37,
   "metadata": {},
   "outputs": [
    {
     "name": "stdout",
     "output_type": "stream",
     "text": [
      "Model: \"DenseModel\"\n",
      "_________________________________________________________________\n",
      " Layer (type)                Output Shape              Param #   \n",
      "=================================================================\n",
      " embedding (Embedding)       (None, 100, 32)           320000    \n",
      "                                                                 \n",
      " global_average_pooling1d (G  (None, 32)               0         \n",
      " lobalAveragePooling1D)                                          \n",
      "                                                                 \n",
      " dense (Dense)               (None, 32)                1056      \n",
      "                                                                 \n",
      " dense_1 (Dense)             (None, 1)                 33        \n",
      "                                                                 \n",
      "=================================================================\n",
      "Total params: 321,089\n",
      "Trainable params: 321,089\n",
      "Non-trainable params: 0\n",
      "_________________________________________________________________\n"
     ]
    }
   ],
   "source": [
    "model_02.summary()"
   ]
  },
  {
   "cell_type": "code",
   "execution_count": 38,
   "metadata": {},
   "outputs": [
    {
     "name": "stdout",
     "output_type": "stream",
     "text": [
      "Epoch 1/5\n",
      "191/191 - 1s - loss: 0.6810 - accuracy: 0.5721 - val_loss: 0.6785 - val_accuracy: 0.5634 - 1s/epoch - 7ms/step\n",
      "Epoch 2/5\n",
      "191/191 - 1s - loss: 0.6568 - accuracy: 0.5869 - val_loss: 0.6320 - val_accuracy: 0.6277 - 680ms/epoch - 4ms/step\n",
      "Epoch 3/5\n",
      "191/191 - 1s - loss: 0.5556 - accuracy: 0.7494 - val_loss: 0.5270 - val_accuracy: 0.7603 - 717ms/epoch - 4ms/step\n",
      "Epoch 4/5\n",
      "191/191 - 1s - loss: 0.4064 - accuracy: 0.8488 - val_loss: 0.4832 - val_accuracy: 0.7899 - 696ms/epoch - 4ms/step\n",
      "Epoch 5/5\n",
      "191/191 - 1s - loss: 0.3345 - accuracy: 0.8716 - val_loss: 0.4630 - val_accuracy: 0.7892 - 719ms/epoch - 4ms/step\n"
     ]
    }
   ],
   "source": [
    "# Compile and train the model\n",
    "model_02.compile(loss=\"binary_crossentropy\", optimizer=\"adam\", metrics=[\"accuracy\"])\n",
    "dense_model_02 = model_02.fit(X_train, y_train, epochs=5, validation_data=(X_val, y_val), verbose=2)"
   ]
  },
  {
   "cell_type": "code",
   "execution_count": 39,
   "metadata": {},
   "outputs": [
    {
     "name": "stdout",
     "output_type": "stream",
     "text": [
      "48/48 [==============================] - 0s 980us/step\n",
      "Accuracy: 0.7892317793827971\n",
      "Precision: 0.7886326142097668\n",
      "Recall: 0.7892317793827971\n",
      "F1 Score: 0.7886805278992987\n"
     ]
    }
   ],
   "source": [
    "# Evaluate the model\n",
    "y_pred = (model_02.predict(X_val) > 0.5).astype(\"int32\")\n",
    "\n",
    "dense_model_results_02 = calculate_scores(y_val, y_pred)"
   ]
  },
  {
   "cell_type": "code",
   "execution_count": 40,
   "metadata": {},
   "outputs": [],
   "source": [
    "from keras.layers import LSTM, Dropout"
   ]
  },
  {
   "cell_type": "code",
   "execution_count": 41,
   "metadata": {},
   "outputs": [],
   "source": [
    "from tensorflow.keras.layers.experimental.preprocessing import TextVectorization"
   ]
  },
  {
   "cell_type": "code",
   "execution_count": 42,
   "metadata": {},
   "outputs": [],
   "source": [
    "# Split the data into training and testing sets\n",
    "X_train_lstm, X_test_lstm, y_train_lstm, y_test_lstm = train_test_split(data_shuffled['text'], data_shuffled['target'], test_size=0.2, random_state=42)\n",
    "\n",
    "# Define the parameters\n",
    "max_features = 10000\n",
    "embedding_dim = 128\n",
    "sequence_length = 15\n",
    "\n",
    "# Define the text vectorization layer\n",
    "vectorize_layer = TextVectorization(\n",
    "    max_tokens=max_features,\n",
    "    output_mode='int',\n",
    "    output_sequence_length=sequence_length)\n",
    "\n",
    "# Fit the text vectorization layer on the training data\n",
    "vectorize_layer.adapt(X_train_lstm.to_list())"
   ]
  },
  {
   "cell_type": "code",
   "execution_count": 43,
   "metadata": {},
   "outputs": [],
   "source": [
    "from tensorflow.keras.models import Model\n",
    "from tensorflow.keras.layers import Input, LSTM\n",
    "from tensorflow.keras.optimizers import Adam\n",
    "import tensorflow as tf\n",
    "from tensorflow.keras.metrics import Accuracy"
   ]
  },
  {
   "cell_type": "code",
   "execution_count": 44,
   "metadata": {},
   "outputs": [],
   "source": [
    "# Define the LSTM model\n",
    "input_layer = Input(shape=(1,), dtype=tf.string, name='input')\n",
    "x_lstm = vectorize_layer(input_layer)\n",
    "x_lstm = Embedding(max_features + 1, embedding_dim)(x_lstm)\n",
    "x_lstm = LSTM(64)(x_lstm)\n",
    "output_layer = Dense(1, activation='sigmoid', name='output')(x_lstm)\n",
    "\n",
    "model_03 = tf.keras.Model(input_layer, output_layer, name=\"LSTM\")\n",
    "\n",
    "# Compile the model\n",
    "model_03.compile(loss=\"binary_crossentropy\", optimizer=tf.keras.optimizers.Adam(), metrics=[\"accuracy\"])"
   ]
  },
  {
   "cell_type": "code",
   "execution_count": 45,
   "metadata": {},
   "outputs": [
    {
     "name": "stdout",
     "output_type": "stream",
     "text": [
      "Model: \"LSTM\"\n",
      "_________________________________________________________________\n",
      " Layer (type)                Output Shape              Param #   \n",
      "=================================================================\n",
      " input (InputLayer)          [(None, 1)]               0         \n",
      "                                                                 \n",
      " text_vectorization (TextVec  (None, 15)               0         \n",
      " torization)                                                     \n",
      "                                                                 \n",
      " embedding_1 (Embedding)     (None, 15, 128)           1280128   \n",
      "                                                                 \n",
      " lstm (LSTM)                 (None, 64)                49408     \n",
      "                                                                 \n",
      " output (Dense)              (None, 1)                 65        \n",
      "                                                                 \n",
      "=================================================================\n",
      "Total params: 1,329,601\n",
      "Trainable params: 1,329,601\n",
      "Non-trainable params: 0\n",
      "_________________________________________________________________\n"
     ]
    }
   ],
   "source": [
    "model_03.summary()"
   ]
  },
  {
   "cell_type": "code",
   "execution_count": 46,
   "metadata": {},
   "outputs": [
    {
     "name": "stdout",
     "output_type": "stream",
     "text": [
      "Epoch 1/5\n",
      "172/172 [==============================] - 3s 8ms/step - loss: 0.5221 - accuracy: 0.7407 - val_loss: 0.4185 - val_accuracy: 0.8210\n",
      "Epoch 2/5\n",
      "172/172 [==============================] - 1s 6ms/step - loss: 0.2974 - accuracy: 0.8849 - val_loss: 0.4516 - val_accuracy: 0.7931\n",
      "Epoch 3/5\n",
      "172/172 [==============================] - 1s 7ms/step - loss: 0.1954 - accuracy: 0.9303 - val_loss: 0.5810 - val_accuracy: 0.7931\n",
      "Epoch 4/5\n",
      "172/172 [==============================] - 1s 6ms/step - loss: 0.1413 - accuracy: 0.9557 - val_loss: 0.6696 - val_accuracy: 0.7816\n",
      "Epoch 5/5\n",
      "172/172 [==============================] - 1s 6ms/step - loss: 0.1117 - accuracy: 0.9635 - val_loss: 0.7696 - val_accuracy: 0.7635\n"
     ]
    },
    {
     "data": {
      "text/plain": [
       "<keras.callbacks.History at 0x1feaebb4490>"
      ]
     },
     "execution_count": 46,
     "metadata": {},
     "output_type": "execute_result"
    }
   ],
   "source": [
    "# Train the model\n",
    "model_03.fit(X_train_lstm, y_train_lstm, epochs=5, validation_split=0.1)"
   ]
  },
  {
   "cell_type": "code",
   "execution_count": 47,
   "metadata": {},
   "outputs": [
    {
     "name": "stdout",
     "output_type": "stream",
     "text": [
      "48/48 [==============================] - 0s 3ms/step\n",
      "Accuracy: 0.7688772160210111\n",
      "Precision: 0.7683225943075519\n",
      "Recall: 0.7688772160210111\n",
      "F1 Score: 0.7684913693191304\n"
     ]
    }
   ],
   "source": [
    "# Evaluate the model\n",
    "y_pred = (model_03.predict(X_test_lstm) > 0.5).astype(\"int32\")\n",
    "\n",
    "lstm_model_results_03 = calculate_scores(y_test_lstm, y_pred)"
   ]
  },
  {
   "cell_type": "code",
   "execution_count": 48,
   "metadata": {},
   "outputs": [],
   "source": [
    "from tensorflow.keras.layers import GRU"
   ]
  },
  {
   "cell_type": "code",
   "execution_count": 49,
   "metadata": {},
   "outputs": [],
   "source": [
    "# Define the GRU model\n",
    "input_layer = Input(shape=(1,), dtype=tf.string, name='input')\n",
    "x_lstm = vectorize_layer(input_layer)\n",
    "x_lstm = Embedding(max_features + 1, embedding_dim)(x_lstm)\n",
    "x_lstm = LSTM(64)(x_lstm)\n",
    "output_layer = Dense(1, activation='sigmoid', name='output')(x_lstm)\n",
    "\n",
    "model_04 = tf.keras.Model(input_layer, output_layer, name=\"GRU\")\n",
    "\n",
    "# Compile the model\n",
    "model_04.compile(loss=\"binary_crossentropy\", optimizer=tf.keras.optimizers.Adam(), metrics=[\"accuracy\"])"
   ]
  },
  {
   "cell_type": "code",
   "execution_count": 50,
   "metadata": {},
   "outputs": [
    {
     "name": "stdout",
     "output_type": "stream",
     "text": [
      "Model: \"GRU\"\n",
      "_________________________________________________________________\n",
      " Layer (type)                Output Shape              Param #   \n",
      "=================================================================\n",
      " input (InputLayer)          [(None, 1)]               0         \n",
      "                                                                 \n",
      " text_vectorization (TextVec  (None, 15)               0         \n",
      " torization)                                                     \n",
      "                                                                 \n",
      " embedding_2 (Embedding)     (None, 15, 128)           1280128   \n",
      "                                                                 \n",
      " lstm_1 (LSTM)               (None, 64)                49408     \n",
      "                                                                 \n",
      " output (Dense)              (None, 1)                 65        \n",
      "                                                                 \n",
      "=================================================================\n",
      "Total params: 1,329,601\n",
      "Trainable params: 1,329,601\n",
      "Non-trainable params: 0\n",
      "_________________________________________________________________\n"
     ]
    }
   ],
   "source": [
    "model_04.summary()"
   ]
  },
  {
   "cell_type": "code",
   "execution_count": 51,
   "metadata": {},
   "outputs": [
    {
     "name": "stdout",
     "output_type": "stream",
     "text": [
      "Epoch 1/5\n",
      "172/172 [==============================] - 2s 8ms/step - loss: 0.5199 - accuracy: 0.7367 - val_loss: 0.4285 - val_accuracy: 0.8177\n",
      "Epoch 2/5\n",
      "172/172 [==============================] - 1s 6ms/step - loss: 0.2944 - accuracy: 0.8803 - val_loss: 0.4482 - val_accuracy: 0.8095\n",
      "Epoch 3/5\n",
      "172/172 [==============================] - 1s 6ms/step - loss: 0.1891 - accuracy: 0.9330 - val_loss: 0.5679 - val_accuracy: 0.7882\n",
      "Epoch 4/5\n",
      "172/172 [==============================] - 1s 6ms/step - loss: 0.1354 - accuracy: 0.9560 - val_loss: 0.6707 - val_accuracy: 0.7816\n",
      "Epoch 5/5\n",
      "172/172 [==============================] - 1s 6ms/step - loss: 0.1085 - accuracy: 0.9657 - val_loss: 0.8716 - val_accuracy: 0.7570\n"
     ]
    },
    {
     "data": {
      "text/plain": [
       "<keras.callbacks.History at 0x1fc36856220>"
      ]
     },
     "execution_count": 51,
     "metadata": {},
     "output_type": "execute_result"
    }
   ],
   "source": [
    "# Train the model\n",
    "model_04.fit(X_train_lstm, y_train_lstm, epochs=5, validation_split=0.1)"
   ]
  },
  {
   "cell_type": "code",
   "execution_count": 52,
   "metadata": {},
   "outputs": [
    {
     "name": "stdout",
     "output_type": "stream",
     "text": [
      "48/48 [==============================] - 0s 2ms/step\n",
      "Accuracy: 0.762967826657912\n",
      "Precision: 0.7643751617741735\n",
      "Recall: 0.762967826657912\n",
      "F1 Score: 0.7634313479127083\n"
     ]
    }
   ],
   "source": [
    "# Evaluate the model\n",
    "y_pred = (model_04.predict(X_test_lstm) > 0.5).astype(\"int32\")\n",
    "\n",
    "gru_model_results_04 = calculate_scores(y_test_lstm, y_pred)"
   ]
  },
  {
   "cell_type": "code",
   "execution_count": 53,
   "metadata": {},
   "outputs": [],
   "source": [
    "from keras.layers import Bidirectional"
   ]
  },
  {
   "cell_type": "code",
   "execution_count": 54,
   "metadata": {},
   "outputs": [],
   "source": [
    "# Define the BiLSTM model\n",
    "input_layer = Input(shape=(1,), dtype=tf.string, name='input')\n",
    "x_lstm = vectorize_layer(input_layer)\n",
    "x_lstm = Embedding(max_features + 1, embedding_dim)(x_lstm)\n",
    "x_lstm = Bidirectional(LSTM(64))(x_lstm)\n",
    "output_layer = Dense(1, activation='sigmoid', name='output')(x_lstm)\n",
    "\n",
    "model_05 = tf.keras.Model(input_layer, output_layer, name=\"BiLSTM\")\n",
    "\n",
    "# Compile the model\n",
    "model_05.compile(loss=\"binary_crossentropy\", optimizer=tf.keras.optimizers.Adam(), metrics=[\"accuracy\"])"
   ]
  },
  {
   "cell_type": "code",
   "execution_count": 55,
   "metadata": {},
   "outputs": [
    {
     "name": "stdout",
     "output_type": "stream",
     "text": [
      "Model: \"BiLSTM\"\n",
      "_________________________________________________________________\n",
      " Layer (type)                Output Shape              Param #   \n",
      "=================================================================\n",
      " input (InputLayer)          [(None, 1)]               0         \n",
      "                                                                 \n",
      " text_vectorization (TextVec  (None, 15)               0         \n",
      " torization)                                                     \n",
      "                                                                 \n",
      " embedding_3 (Embedding)     (None, 15, 128)           1280128   \n",
      "                                                                 \n",
      " bidirectional (Bidirectiona  (None, 128)              98816     \n",
      " l)                                                              \n",
      "                                                                 \n",
      " output (Dense)              (None, 1)                 129       \n",
      "                                                                 \n",
      "=================================================================\n",
      "Total params: 1,379,073\n",
      "Trainable params: 1,379,073\n",
      "Non-trainable params: 0\n",
      "_________________________________________________________________\n"
     ]
    }
   ],
   "source": [
    "model_05.summary()"
   ]
  },
  {
   "cell_type": "code",
   "execution_count": 56,
   "metadata": {},
   "outputs": [
    {
     "name": "stdout",
     "output_type": "stream",
     "text": [
      "Epoch 1/5\n",
      "172/172 [==============================] - 4s 12ms/step - loss: 0.5270 - accuracy: 0.7345 - val_loss: 0.4361 - val_accuracy: 0.8030\n",
      "Epoch 2/5\n",
      "172/172 [==============================] - 1s 8ms/step - loss: 0.2988 - accuracy: 0.8807 - val_loss: 0.4507 - val_accuracy: 0.7931\n",
      "Epoch 3/5\n",
      "172/172 [==============================] - 1s 8ms/step - loss: 0.1891 - accuracy: 0.9334 - val_loss: 0.5308 - val_accuracy: 0.7668\n",
      "Epoch 4/5\n",
      "172/172 [==============================] - 2s 9ms/step - loss: 0.1320 - accuracy: 0.9568 - val_loss: 0.5955 - val_accuracy: 0.7767\n",
      "Epoch 5/5\n",
      "172/172 [==============================] - 1s 9ms/step - loss: 0.1059 - accuracy: 0.9670 - val_loss: 0.8941 - val_accuracy: 0.7356\n"
     ]
    },
    {
     "data": {
      "text/plain": [
       "<keras.callbacks.History at 0x1feaeba9190>"
      ]
     },
     "execution_count": 56,
     "metadata": {},
     "output_type": "execute_result"
    }
   ],
   "source": [
    "# Train the model\n",
    "model_05.fit(X_train_lstm, y_train_lstm, epochs=5, validation_split=0.1)"
   ]
  },
  {
   "cell_type": "code",
   "execution_count": 57,
   "metadata": {},
   "outputs": [
    {
     "name": "stdout",
     "output_type": "stream",
     "text": [
      "48/48 [==============================] - 1s 4ms/step\n",
      "Accuracy: 0.7504924491135916\n",
      "Precision: 0.7557267414267717\n",
      "Recall: 0.7504924491135916\n",
      "F1 Score: 0.7514355360589539\n"
     ]
    }
   ],
   "source": [
    "# Evaluate the model\n",
    "y_pred = (model_05.predict(X_test_lstm) > 0.5).astype(\"int32\")\n",
    "\n",
    "bilstm_model_results_05 = calculate_scores(y_test_lstm, y_pred)"
   ]
  },
  {
   "cell_type": "code",
   "execution_count": 58,
   "metadata": {},
   "outputs": [],
   "source": [
    "from keras.layers import Conv1D, GlobalMaxPooling1D"
   ]
  },
  {
   "cell_type": "code",
   "execution_count": 59,
   "metadata": {},
   "outputs": [],
   "source": [
    "# Define the model\n",
    "model_06 = Sequential(name=\"Conv1D\")\n",
    "model_06.add(Embedding(max_words, 128, input_length=max_len))\n",
    "model_06.add(Conv1D(128, 5, activation='relu'))\n",
    "model_06.add(GlobalMaxPooling1D())\n",
    "model_06.add(Dense(1, activation='sigmoid'))\n",
    "# Compile the model\n",
    "model_06.compile(optimizer=Adam(learning_rate=0.001), loss='binary_crossentropy', metrics=['accuracy'])"
   ]
  },
  {
   "cell_type": "code",
   "execution_count": 60,
   "metadata": {},
   "outputs": [
    {
     "name": "stdout",
     "output_type": "stream",
     "text": [
      "Model: \"Conv1D\"\n",
      "_________________________________________________________________\n",
      " Layer (type)                Output Shape              Param #   \n",
      "=================================================================\n",
      " embedding_4 (Embedding)     (None, 100, 128)          1280000   \n",
      "                                                                 \n",
      " conv1d (Conv1D)             (None, 96, 128)           82048     \n",
      "                                                                 \n",
      " global_max_pooling1d (Globa  (None, 128)              0         \n",
      " lMaxPooling1D)                                                  \n",
      "                                                                 \n",
      " dense_2 (Dense)             (None, 1)                 129       \n",
      "                                                                 \n",
      "=================================================================\n",
      "Total params: 1,362,177\n",
      "Trainable params: 1,362,177\n",
      "Non-trainable params: 0\n",
      "_________________________________________________________________\n"
     ]
    }
   ],
   "source": [
    "model_06.summary()"
   ]
  },
  {
   "cell_type": "code",
   "execution_count": 61,
   "metadata": {},
   "outputs": [
    {
     "name": "stdout",
     "output_type": "stream",
     "text": [
      "Epoch 1/5\n",
      "191/191 [==============================] - 2s 5ms/step - loss: 0.5383 - accuracy: 0.7325 - val_loss: 0.4500 - val_accuracy: 0.8076\n",
      "Epoch 2/5\n",
      "191/191 [==============================] - 1s 4ms/step - loss: 0.3067 - accuracy: 0.8814 - val_loss: 0.4644 - val_accuracy: 0.8030\n",
      "Epoch 3/5\n",
      "191/191 [==============================] - 1s 4ms/step - loss: 0.1771 - accuracy: 0.9374 - val_loss: 0.5518 - val_accuracy: 0.8063\n",
      "Epoch 4/5\n",
      "191/191 [==============================] - 1s 4ms/step - loss: 0.1156 - accuracy: 0.9596 - val_loss: 0.6062 - val_accuracy: 0.7866\n",
      "Epoch 5/5\n",
      "191/191 [==============================] - 1s 4ms/step - loss: 0.0873 - accuracy: 0.9703 - val_loss: 0.6624 - val_accuracy: 0.7800\n"
     ]
    },
    {
     "data": {
      "text/plain": [
       "<keras.callbacks.History at 0x1fc3e1a3f10>"
      ]
     },
     "execution_count": 61,
     "metadata": {},
     "output_type": "execute_result"
    }
   ],
   "source": [
    "# Fit the model\n",
    "model_06.fit(X_train, y_train, validation_data=(X_val, y_val), epochs=5, batch_size=32)"
   ]
  },
  {
   "cell_type": "code",
   "execution_count": 73,
   "metadata": {},
   "outputs": [
    {
     "name": "stdout",
     "output_type": "stream",
     "text": [
      "48/48 [==============================] - 0s 3ms/step\n",
      "Accuracy: 0.7800393959290873\n",
      "Precision: 0.7794701211487662\n",
      "Recall: 0.7800393959290873\n",
      "F1 Score: 0.7796046470141115\n"
     ]
    }
   ],
   "source": [
    "# Evaluate the model\n",
    "y_pred = (model_06.predict(X_val) > 0.5).astype(\"int32\")\n",
    "\n",
    "conv1d_model_results_06 = calculate_scores(y_val, y_pred)"
   ]
  },
  {
   "cell_type": "code",
   "execution_count": 92,
   "metadata": {},
   "outputs": [],
   "source": [
    "import numpy as np"
   ]
  },
  {
   "cell_type": "markdown",
   "metadata": {},
   "source": [
    "Load the pre-trained model from TensorFlow Hub:"
   ]
  },
  {
   "cell_type": "code",
   "execution_count": 95,
   "metadata": {},
   "outputs": [],
   "source": [
    "import tensorflow_hub as hub"
   ]
  },
  {
   "cell_type": "code",
   "execution_count": 96,
   "metadata": {},
   "outputs": [],
   "source": [
    "embed = hub.load(\"https://tfhub.dev/google/universal-sentence-encoder/4\")"
   ]
  },
  {
   "cell_type": "code",
   "execution_count": 97,
   "metadata": {},
   "outputs": [],
   "source": [
    "X_train, X_test, y_train, y_test = train_test_split(data['text'], data['target'], test_size=0.2, random_state=42)"
   ]
  },
  {
   "cell_type": "code",
   "execution_count": 98,
   "metadata": {},
   "outputs": [],
   "source": [
    "X_train_embeddings = embed(X_train)\n",
    "X_test_embeddings = embed(X_test)"
   ]
  },
  {
   "cell_type": "code",
   "execution_count": 99,
   "metadata": {},
   "outputs": [],
   "source": [
    "from sklearn.linear_model import LogisticRegression"
   ]
  },
  {
   "cell_type": "code",
   "execution_count": 100,
   "metadata": {},
   "outputs": [
    {
     "data": {
      "text/html": [
       "<style>#sk-container-id-3 {color: black;background-color: white;}#sk-container-id-3 pre{padding: 0;}#sk-container-id-3 div.sk-toggleable {background-color: white;}#sk-container-id-3 label.sk-toggleable__label {cursor: pointer;display: block;width: 100%;margin-bottom: 0;padding: 0.3em;box-sizing: border-box;text-align: center;}#sk-container-id-3 label.sk-toggleable__label-arrow:before {content: \"▸\";float: left;margin-right: 0.25em;color: #696969;}#sk-container-id-3 label.sk-toggleable__label-arrow:hover:before {color: black;}#sk-container-id-3 div.sk-estimator:hover label.sk-toggleable__label-arrow:before {color: black;}#sk-container-id-3 div.sk-toggleable__content {max-height: 0;max-width: 0;overflow: hidden;text-align: left;background-color: #f0f8ff;}#sk-container-id-3 div.sk-toggleable__content pre {margin: 0.2em;color: black;border-radius: 0.25em;background-color: #f0f8ff;}#sk-container-id-3 input.sk-toggleable__control:checked~div.sk-toggleable__content {max-height: 200px;max-width: 100%;overflow: auto;}#sk-container-id-3 input.sk-toggleable__control:checked~label.sk-toggleable__label-arrow:before {content: \"▾\";}#sk-container-id-3 div.sk-estimator input.sk-toggleable__control:checked~label.sk-toggleable__label {background-color: #d4ebff;}#sk-container-id-3 div.sk-label input.sk-toggleable__control:checked~label.sk-toggleable__label {background-color: #d4ebff;}#sk-container-id-3 input.sk-hidden--visually {border: 0;clip: rect(1px 1px 1px 1px);clip: rect(1px, 1px, 1px, 1px);height: 1px;margin: -1px;overflow: hidden;padding: 0;position: absolute;width: 1px;}#sk-container-id-3 div.sk-estimator {font-family: monospace;background-color: #f0f8ff;border: 1px dotted black;border-radius: 0.25em;box-sizing: border-box;margin-bottom: 0.5em;}#sk-container-id-3 div.sk-estimator:hover {background-color: #d4ebff;}#sk-container-id-3 div.sk-parallel-item::after {content: \"\";width: 100%;border-bottom: 1px solid gray;flex-grow: 1;}#sk-container-id-3 div.sk-label:hover label.sk-toggleable__label {background-color: #d4ebff;}#sk-container-id-3 div.sk-serial::before {content: \"\";position: absolute;border-left: 1px solid gray;box-sizing: border-box;top: 0;bottom: 0;left: 50%;z-index: 0;}#sk-container-id-3 div.sk-serial {display: flex;flex-direction: column;align-items: center;background-color: white;padding-right: 0.2em;padding-left: 0.2em;position: relative;}#sk-container-id-3 div.sk-item {position: relative;z-index: 1;}#sk-container-id-3 div.sk-parallel {display: flex;align-items: stretch;justify-content: center;background-color: white;position: relative;}#sk-container-id-3 div.sk-item::before, #sk-container-id-3 div.sk-parallel-item::before {content: \"\";position: absolute;border-left: 1px solid gray;box-sizing: border-box;top: 0;bottom: 0;left: 50%;z-index: -1;}#sk-container-id-3 div.sk-parallel-item {display: flex;flex-direction: column;z-index: 1;position: relative;background-color: white;}#sk-container-id-3 div.sk-parallel-item:first-child::after {align-self: flex-end;width: 50%;}#sk-container-id-3 div.sk-parallel-item:last-child::after {align-self: flex-start;width: 50%;}#sk-container-id-3 div.sk-parallel-item:only-child::after {width: 0;}#sk-container-id-3 div.sk-dashed-wrapped {border: 1px dashed gray;margin: 0 0.4em 0.5em 0.4em;box-sizing: border-box;padding-bottom: 0.4em;background-color: white;}#sk-container-id-3 div.sk-label label {font-family: monospace;font-weight: bold;display: inline-block;line-height: 1.2em;}#sk-container-id-3 div.sk-label-container {text-align: center;}#sk-container-id-3 div.sk-container {/* jupyter's `normalize.less` sets `[hidden] { display: none; }` but bootstrap.min.css set `[hidden] { display: none !important; }` so we also need the `!important` here to be able to override the default hidden behavior on the sphinx rendered scikit-learn.org. See: https://github.com/scikit-learn/scikit-learn/issues/21755 */display: inline-block !important;position: relative;}#sk-container-id-3 div.sk-text-repr-fallback {display: none;}</style><div id=\"sk-container-id-3\" class=\"sk-top-container\"><div class=\"sk-text-repr-fallback\"><pre>LogisticRegression()</pre><b>In a Jupyter environment, please rerun this cell to show the HTML representation or trust the notebook. <br />On GitHub, the HTML representation is unable to render, please try loading this page with nbviewer.org.</b></div><div class=\"sk-container\" hidden><div class=\"sk-item\"><div class=\"sk-estimator sk-toggleable\"><input class=\"sk-toggleable__control sk-hidden--visually\" id=\"sk-estimator-id-5\" type=\"checkbox\" checked><label for=\"sk-estimator-id-5\" class=\"sk-toggleable__label sk-toggleable__label-arrow\">LogisticRegression</label><div class=\"sk-toggleable__content\"><pre>LogisticRegression()</pre></div></div></div></div></div>"
      ],
      "text/plain": [
       "LogisticRegression()"
      ]
     },
     "execution_count": 100,
     "metadata": {},
     "output_type": "execute_result"
    }
   ],
   "source": [
    "model_07 = LogisticRegression()\n",
    "model_07.fit(X_train_embeddings, y_train)"
   ]
  },
  {
   "cell_type": "code",
   "execution_count": 101,
   "metadata": {},
   "outputs": [
    {
     "name": "stdout",
     "output_type": "stream",
     "text": [
      "Accuracy: 0.8220617202889035\n",
      "Precision: 0.8217304568967476\n",
      "Recall: 0.8220617202889035\n",
      "F1 Score: 0.8209452400803882\n"
     ]
    }
   ],
   "source": [
    "y_pred = model_07.predict(X_test_embeddings)\n",
    "tfhub_model_results_07 = calculate_scores(y_test, y_pred)"
   ]
  },
  {
   "cell_type": "code",
   "execution_count": 103,
   "metadata": {},
   "outputs": [
    {
     "data": {
      "text/html": [
       "<div>\n",
       "<style scoped>\n",
       "    .dataframe tbody tr th:only-of-type {\n",
       "        vertical-align: middle;\n",
       "    }\n",
       "\n",
       "    .dataframe tbody tr th {\n",
       "        vertical-align: top;\n",
       "    }\n",
       "\n",
       "    .dataframe thead th {\n",
       "        text-align: right;\n",
       "    }\n",
       "</style>\n",
       "<table border=\"1\" class=\"dataframe\">\n",
       "  <thead>\n",
       "    <tr style=\"text-align: right;\">\n",
       "      <th></th>\n",
       "      <th>Accuracy</th>\n",
       "      <th>Precision</th>\n",
       "      <th>Recall</th>\n",
       "      <th>F1 Score</th>\n",
       "    </tr>\n",
       "  </thead>\n",
       "  <tbody>\n",
       "    <tr>\n",
       "      <th>baseline</th>\n",
       "      <td>0.803150</td>\n",
       "      <td>0.813879</td>\n",
       "      <td>0.803150</td>\n",
       "      <td>0.799039</td>\n",
       "    </tr>\n",
       "    <tr>\n",
       "      <th>simple_dense</th>\n",
       "      <td>0.789232</td>\n",
       "      <td>0.788633</td>\n",
       "      <td>0.789232</td>\n",
       "      <td>0.788681</td>\n",
       "    </tr>\n",
       "    <tr>\n",
       "      <th>lstm</th>\n",
       "      <td>0.768877</td>\n",
       "      <td>0.768323</td>\n",
       "      <td>0.768877</td>\n",
       "      <td>0.768491</td>\n",
       "    </tr>\n",
       "    <tr>\n",
       "      <th>gru</th>\n",
       "      <td>0.762968</td>\n",
       "      <td>0.764375</td>\n",
       "      <td>0.762968</td>\n",
       "      <td>0.763431</td>\n",
       "    </tr>\n",
       "    <tr>\n",
       "      <th>bidirectional</th>\n",
       "      <td>0.750492</td>\n",
       "      <td>0.755727</td>\n",
       "      <td>0.750492</td>\n",
       "      <td>0.751436</td>\n",
       "    </tr>\n",
       "    <tr>\n",
       "      <th>conv1d</th>\n",
       "      <td>0.780039</td>\n",
       "      <td>0.779470</td>\n",
       "      <td>0.780039</td>\n",
       "      <td>0.779605</td>\n",
       "    </tr>\n",
       "    <tr>\n",
       "      <th>tfhub</th>\n",
       "      <td>0.822062</td>\n",
       "      <td>0.821730</td>\n",
       "      <td>0.822062</td>\n",
       "      <td>0.820945</td>\n",
       "    </tr>\n",
       "  </tbody>\n",
       "</table>\n",
       "</div>"
      ],
      "text/plain": [
       "               Accuracy  Precision    Recall  F1 Score\n",
       "baseline       0.803150   0.813879  0.803150  0.799039\n",
       "simple_dense   0.789232   0.788633  0.789232  0.788681\n",
       "lstm           0.768877   0.768323  0.768877  0.768491\n",
       "gru            0.762968   0.764375  0.762968  0.763431\n",
       "bidirectional  0.750492   0.755727  0.750492  0.751436\n",
       "conv1d         0.780039   0.779470  0.780039  0.779605\n",
       "tfhub          0.822062   0.821730  0.822062  0.820945"
      ]
     },
     "execution_count": 103,
     "metadata": {},
     "output_type": "execute_result"
    }
   ],
   "source": [
    "# Combine model results into a DataFrame\n",
    "all_model_results = pd.DataFrame({\"baseline\": baseline_model_results_01,\n",
    "                                  \"simple_dense\": dense_model_results_02,\n",
    "                                  \"lstm\": lstm_model_results_03,\n",
    "                                  \"gru\": gru_model_results_04,\n",
    "                                  \"bidirectional\": bilstm_model_results_05,\n",
    "                                  \"conv1d\": conv1d_model_results_06,\n",
    "                                  \"tfhub\": tfhub_model_results_07})\n",
    "all_model_results = all_model_results.transpose()\n",
    "all_model_results"
   ]
  },
  {
   "cell_type": "code",
   "execution_count": 106,
   "metadata": {},
   "outputs": [
    {
     "data": {
      "image/png": "[encoded data removed]",
      "text/plain": [
       "<Figure size 1500x1000 with 4 Axes>"
      ]
     },
     "metadata": {},
     "output_type": "display_data"
    }
   ],
   "source": [
    "import matplotlib.pyplot as plt\n",
    "import seaborn as sns\n",
    "\n",
    "# Plotting\n",
    "plt.figure(figsize=(15,10))\n",
    "\n",
    "# Subplot 1: Accuracy\n",
    "plt.subplot(221)\n",
    "all_model_results['Accuracy'].sort_values().plot(kind='barh', title='Model Accuracy')\n",
    "\n",
    "# Subplot 2: Precision\n",
    "plt.subplot(222)\n",
    "all_model_results['Precision'].sort_values().plot(kind='barh', title='Model Precision')\n",
    "\n",
    "# Subplot 3: Recall\n",
    "plt.subplot(223)\n",
    "all_model_results['Recall'].sort_values().plot(kind='barh', title='Model Recall')\n",
    "\n",
    "# Subplot 4: F1 Score\n",
    "plt.subplot(224)\n",
    "all_model_results['F1 Score'].sort_values().plot(kind='barh', title='Model F1 Score')\n",
    "\n",
    "plt.tight_layout()\n",
    "plt.show()"
   ]
  },
  {
   "cell_type": "code",
   "execution_count": 112,
   "metadata": {},
   "outputs": [],
   "source": [
    "# Calculate prediction probabilities\n",
    "y_pred_prob = model_07.predict_proba(X_test_embeddings)\n",
    "\n",
    "# Create a DataFrame for easier manipulation\n",
    "df = pd.DataFrame({\n",
    "    'text': X_test,\n",
    "    'true_label': y_test,\n",
    "    'predicted_label': y_pred,\n",
    "    'prob_0': y_pred_prob[:, 0],\n",
    "    'prob_1': y_pred_prob[:, 1]\n",
    "})\n",
    "\n",
    "# Calculate the probability of the correct class for each prediction\n",
    "df['correct_prob'] = np.where(df['true_label'] == df['predicted_label'], np.max(y_pred_prob, axis=1), np.min(y_pred_prob, axis=1))\n",
    "\n",
    "# Sort by correct_prob to find the most correct and most wrong predictions\n",
    "most_correct = df.sort_values(by='correct_prob', ascending=False)\n",
    "most_wrong = df.sort_values(by='correct_prob')"
   ]
  },
  {
   "cell_type": "code",
   "execution_count": 119,
   "metadata": {},
   "outputs": [
    {
     "name": "stdout",
     "output_type": "stream",
     "text": [
      "Most correct predictions:\n"
     ]
    },
    {
     "data": {
      "text/html": [
       "<div>\n",
       "<style scoped>\n",
       "    .dataframe tbody tr th:only-of-type {\n",
       "        vertical-align: middle;\n",
       "    }\n",
       "\n",
       "    .dataframe tbody tr th {\n",
       "        vertical-align: top;\n",
       "    }\n",
       "\n",
       "    .dataframe thead th {\n",
       "        text-align: right;\n",
       "    }\n",
       "</style>\n",
       "<table border=\"1\" class=\"dataframe\">\n",
       "  <thead>\n",
       "    <tr style=\"text-align: right;\">\n",
       "      <th></th>\n",
       "      <th>text</th>\n",
       "      <th>true_label</th>\n",
       "      <th>predicted_label</th>\n",
       "      <th>prob_0</th>\n",
       "      <th>prob_1</th>\n",
       "      <th>correct_prob</th>\n",
       "    </tr>\n",
       "  </thead>\n",
       "  <tbody>\n",
       "    <tr>\n",
       "      <th>2263</th>\n",
       "      <td>Businesses are deluged with invoices. Make you...</td>\n",
       "      <td>0</td>\n",
       "      <td>0</td>\n",
       "      <td>0.992580</td>\n",
       "      <td>0.007420</td>\n",
       "      <td>0.992580</td>\n",
       "    </tr>\n",
       "    <tr>\n",
       "      <th>3353</th>\n",
       "      <td>Entire town of Roosevelt Wash. evacuated becau...</td>\n",
       "      <td>1</td>\n",
       "      <td>1</td>\n",
       "      <td>0.007990</td>\n",
       "      <td>0.992010</td>\n",
       "      <td>0.992010</td>\n",
       "    </tr>\n",
       "    <tr>\n",
       "      <th>408</th>\n",
       "      <td>Arson suspect linked to 30 fires caught in Nor...</td>\n",
       "      <td>1</td>\n",
       "      <td>1</td>\n",
       "      <td>0.008158</td>\n",
       "      <td>0.991842</td>\n",
       "      <td>0.991842</td>\n",
       "    </tr>\n",
       "    <tr>\n",
       "      <th>4864</th>\n",
       "      <td>If your friends really were your friends they'...</td>\n",
       "      <td>0</td>\n",
       "      <td>0</td>\n",
       "      <td>0.988570</td>\n",
       "      <td>0.011430</td>\n",
       "      <td>0.988570</td>\n",
       "    </tr>\n",
       "    <tr>\n",
       "      <th>2264</th>\n",
       "      <td>Businesses are|deluged with invoices. Make y u...</td>\n",
       "      <td>0</td>\n",
       "      <td>0</td>\n",
       "      <td>0.988467</td>\n",
       "      <td>0.011533</td>\n",
       "      <td>0.988467</td>\n",
       "    </tr>\n",
       "    <tr>\n",
       "      <th>2164</th>\n",
       "      <td>Malaysia Airlines Flight 370 that Disappeared ...</td>\n",
       "      <td>1</td>\n",
       "      <td>1</td>\n",
       "      <td>0.012382</td>\n",
       "      <td>0.987618</td>\n",
       "      <td>0.987618</td>\n",
       "    </tr>\n",
       "    <tr>\n",
       "      <th>1047</th>\n",
       "      <td>ÛÏParties and body bags go together like drin...</td>\n",
       "      <td>0</td>\n",
       "      <td>0</td>\n",
       "      <td>0.986962</td>\n",
       "      <td>0.013038</td>\n",
       "      <td>0.986962</td>\n",
       "    </tr>\n",
       "    <tr>\n",
       "      <th>1302</th>\n",
       "      <td>The 8-Minute Fat-Burning Routine ThatÛªs Also...</td>\n",
       "      <td>0</td>\n",
       "      <td>0</td>\n",
       "      <td>0.986783</td>\n",
       "      <td>0.013217</td>\n",
       "      <td>0.986783</td>\n",
       "    </tr>\n",
       "    <tr>\n",
       "      <th>4691</th>\n",
       "      <td>Latest: Landslide kills three near Venice afte...</td>\n",
       "      <td>1</td>\n",
       "      <td>1</td>\n",
       "      <td>0.013553</td>\n",
       "      <td>0.986447</td>\n",
       "      <td>0.986447</td>\n",
       "    </tr>\n",
       "    <tr>\n",
       "      <th>3362</th>\n",
       "      <td>#Breaking: Authorities have issued new mandato...</td>\n",
       "      <td>1</td>\n",
       "      <td>1</td>\n",
       "      <td>0.014089</td>\n",
       "      <td>0.985911</td>\n",
       "      <td>0.985911</td>\n",
       "    </tr>\n",
       "    <tr>\n",
       "      <th>3340</th>\n",
       "      <td>#WorldNews Fallen powerlines on G:link tram: U...</td>\n",
       "      <td>1</td>\n",
       "      <td>1</td>\n",
       "      <td>0.014763</td>\n",
       "      <td>0.985237</td>\n",
       "      <td>0.985237</td>\n",
       "    </tr>\n",
       "    <tr>\n",
       "      <th>2166</th>\n",
       "      <td>Discovered Plane Debris Is From Missing Malays...</td>\n",
       "      <td>1</td>\n",
       "      <td>1</td>\n",
       "      <td>0.016174</td>\n",
       "      <td>0.983826</td>\n",
       "      <td>0.983826</td>\n",
       "    </tr>\n",
       "    <tr>\n",
       "      <th>1871</th>\n",
       "      <td>Crush Content MarketingåÊMediocrity http://t.c...</td>\n",
       "      <td>0</td>\n",
       "      <td>0</td>\n",
       "      <td>0.983688</td>\n",
       "      <td>0.016312</td>\n",
       "      <td>0.983688</td>\n",
       "    </tr>\n",
       "    <tr>\n",
       "      <th>1103</th>\n",
       "      <td>On 1st August #Turkish jets bombed the village...</td>\n",
       "      <td>1</td>\n",
       "      <td>1</td>\n",
       "      <td>0.016338</td>\n",
       "      <td>0.983662</td>\n",
       "      <td>0.983662</td>\n",
       "    </tr>\n",
       "    <tr>\n",
       "      <th>2249</th>\n",
       "      <td>Businesses abe deluged with invoices. Make you...</td>\n",
       "      <td>0</td>\n",
       "      <td>0</td>\n",
       "      <td>0.983556</td>\n",
       "      <td>0.016444</td>\n",
       "      <td>0.983556</td>\n",
       "    </tr>\n",
       "    <tr>\n",
       "      <th>196</th>\n",
       "      <td>#reuters Twelve feared killed in Pakistani air...</td>\n",
       "      <td>1</td>\n",
       "      <td>1</td>\n",
       "      <td>0.016728</td>\n",
       "      <td>0.983272</td>\n",
       "      <td>0.983272</td>\n",
       "    </tr>\n",
       "    <tr>\n",
       "      <th>435</th>\n",
       "      <td>@_Doofus_ @diamorfiend im jokin still cant be ...</td>\n",
       "      <td>0</td>\n",
       "      <td>0</td>\n",
       "      <td>0.982627</td>\n",
       "      <td>0.017373</td>\n",
       "      <td>0.982627</td>\n",
       "    </tr>\n",
       "    <tr>\n",
       "      <th>4913</th>\n",
       "      <td>Beach Reads in August #Giveaway Hop &amp;amp; @Stu...</td>\n",
       "      <td>0</td>\n",
       "      <td>0</td>\n",
       "      <td>0.982198</td>\n",
       "      <td>0.017802</td>\n",
       "      <td>0.982198</td>\n",
       "    </tr>\n",
       "    <tr>\n",
       "      <th>5863</th>\n",
       "      <td>Why do u ruin everything?  @9tarbox u ruined t...</td>\n",
       "      <td>0</td>\n",
       "      <td>0</td>\n",
       "      <td>0.981471</td>\n",
       "      <td>0.018529</td>\n",
       "      <td>0.981471</td>\n",
       "    </tr>\n",
       "    <tr>\n",
       "      <th>2492</th>\n",
       "      <td>@mallelis have you gotten to the post-battle w...</td>\n",
       "      <td>0</td>\n",
       "      <td>0</td>\n",
       "      <td>0.981430</td>\n",
       "      <td>0.018570</td>\n",
       "      <td>0.981430</td>\n",
       "    </tr>\n",
       "  </tbody>\n",
       "</table>\n",
       "</div>"
      ],
      "text/plain": [
       "                                                   text  true_label  \\\n",
       "2263  Businesses are deluged with invoices. Make you...           0   \n",
       "3353  Entire town of Roosevelt Wash. evacuated becau...           1   \n",
       "408   Arson suspect linked to 30 fires caught in Nor...           1   \n",
       "4864  If your friends really were your friends they'...           0   \n",
       "2264  Businesses are|deluged with invoices. Make y u...           0   \n",
       "2164  Malaysia Airlines Flight 370 that Disappeared ...           1   \n",
       "1047  ÛÏParties and body bags go together like drin...           0   \n",
       "1302  The 8-Minute Fat-Burning Routine ThatÛªs Also...           0   \n",
       "4691  Latest: Landslide kills three near Venice afte...           1   \n",
       "3362  #Breaking: Authorities have issued new mandato...           1   \n",
       "3340  #WorldNews Fallen powerlines on G:link tram: U...           1   \n",
       "2166  Discovered Plane Debris Is From Missing Malays...           1   \n",
       "1871  Crush Content MarketingåÊMediocrity http://t.c...           0   \n",
       "1103  On 1st August #Turkish jets bombed the village...           1   \n",
       "2249  Businesses abe deluged with invoices. Make you...           0   \n",
       "196   #reuters Twelve feared killed in Pakistani air...           1   \n",
       "435   @_Doofus_ @diamorfiend im jokin still cant be ...           0   \n",
       "4913  Beach Reads in August #Giveaway Hop &amp; @Stu...           0   \n",
       "5863  Why do u ruin everything?  @9tarbox u ruined t...           0   \n",
       "2492  @mallelis have you gotten to the post-battle w...           0   \n",
       "\n",
       "      predicted_label    prob_0    prob_1  correct_prob  \n",
       "2263                0  0.992580  0.007420      0.992580  \n",
       "3353                1  0.007990  0.992010      0.992010  \n",
       "408                 1  0.008158  0.991842      0.991842  \n",
       "4864                0  0.988570  0.011430      0.988570  \n",
       "2264                0  0.988467  0.011533      0.988467  \n",
       "2164                1  0.012382  0.987618      0.987618  \n",
       "1047                0  0.986962  0.013038      0.986962  \n",
       "1302                0  0.986783  0.013217      0.986783  \n",
       "4691                1  0.013553  0.986447      0.986447  \n",
       "3362                1  0.014089  0.985911      0.985911  \n",
       "3340                1  0.014763  0.985237      0.985237  \n",
       "2166                1  0.016174  0.983826      0.983826  \n",
       "1871                0  0.983688  0.016312      0.983688  \n",
       "1103                1  0.016338  0.983662      0.983662  \n",
       "2249                0  0.983556  0.016444      0.983556  \n",
       "196                 1  0.016728  0.983272      0.983272  \n",
       "435                 0  0.982627  0.017373      0.982627  \n",
       "4913                0  0.982198  0.017802      0.982198  \n",
       "5863                0  0.981471  0.018529      0.981471  \n",
       "2492                0  0.981430  0.018570      0.981430  "
      ]
     },
     "execution_count": 119,
     "metadata": {},
     "output_type": "execute_result"
    }
   ],
   "source": [
    "# Display the most correct predictions\n",
    "print(\"Most correct predictions:\")\n",
    "most_correct.head(20)"
   ]
  },
  {
   "cell_type": "code",
   "execution_count": 117,
   "metadata": {},
   "outputs": [
    {
     "name": "stdout",
     "output_type": "stream",
     "text": [
      "\n",
      "Most wrong predictions:\n"
     ]
    },
    {
     "data": {
      "text/html": [
       "<div>\n",
       "<style scoped>\n",
       "    .dataframe tbody tr th:only-of-type {\n",
       "        vertical-align: middle;\n",
       "    }\n",
       "\n",
       "    .dataframe tbody tr th {\n",
       "        vertical-align: top;\n",
       "    }\n",
       "\n",
       "    .dataframe thead th {\n",
       "        text-align: right;\n",
       "    }\n",
       "</style>\n",
       "<table border=\"1\" class=\"dataframe\">\n",
       "  <thead>\n",
       "    <tr style=\"text-align: right;\">\n",
       "      <th></th>\n",
       "      <th>text</th>\n",
       "      <th>true_label</th>\n",
       "      <th>predicted_label</th>\n",
       "      <th>prob_0</th>\n",
       "      <th>prob_1</th>\n",
       "      <th>correct_prob</th>\n",
       "    </tr>\n",
       "  </thead>\n",
       "  <tbody>\n",
       "    <tr>\n",
       "      <th>2260</th>\n",
       "      <td>Businesses are deluged with invoices. Make you...</td>\n",
       "      <td>1</td>\n",
       "      <td>0</td>\n",
       "      <td>0.985819</td>\n",
       "      <td>0.014181</td>\n",
       "      <td>0.014181</td>\n",
       "    </tr>\n",
       "    <tr>\n",
       "      <th>6221</th>\n",
       "      <td>I get to smoke my shit in peace</td>\n",
       "      <td>1</td>\n",
       "      <td>0</td>\n",
       "      <td>0.968958</td>\n",
       "      <td>0.031042</td>\n",
       "      <td>0.031042</td>\n",
       "    </tr>\n",
       "    <tr>\n",
       "      <th>7203</th>\n",
       "      <td>Even if u have your weapon and your badge we g...</td>\n",
       "      <td>1</td>\n",
       "      <td>0</td>\n",
       "      <td>0.967421</td>\n",
       "      <td>0.032579</td>\n",
       "      <td>0.032579</td>\n",
       "    </tr>\n",
       "    <tr>\n",
       "      <th>547</th>\n",
       "      <td>STAR WARS POWER OF THE JEDI COLLECTION 1 BATTL...</td>\n",
       "      <td>1</td>\n",
       "      <td>0</td>\n",
       "      <td>0.963794</td>\n",
       "      <td>0.036206</td>\n",
       "      <td>0.036206</td>\n",
       "    </tr>\n",
       "    <tr>\n",
       "      <th>1005</th>\n",
       "      <td>'I did another one I did another one. You stil...</td>\n",
       "      <td>1</td>\n",
       "      <td>0</td>\n",
       "      <td>0.959786</td>\n",
       "      <td>0.040214</td>\n",
       "      <td>0.040214</td>\n",
       "    </tr>\n",
       "    <tr>\n",
       "      <th>842</th>\n",
       "      <td>I call it a little bit of your blizzard?</td>\n",
       "      <td>1</td>\n",
       "      <td>0</td>\n",
       "      <td>0.959138</td>\n",
       "      <td>0.040862</td>\n",
       "      <td>0.040862</td>\n",
       "    </tr>\n",
       "    <tr>\n",
       "      <th>3954</th>\n",
       "      <td>@adorableappple No reported flooding po in the...</td>\n",
       "      <td>0</td>\n",
       "      <td>1</td>\n",
       "      <td>0.046159</td>\n",
       "      <td>0.953841</td>\n",
       "      <td>0.046159</td>\n",
       "    </tr>\n",
       "    <tr>\n",
       "      <th>4509</th>\n",
       "      <td>My back is so sunburned :(</td>\n",
       "      <td>1</td>\n",
       "      <td>0</td>\n",
       "      <td>0.942359</td>\n",
       "      <td>0.057641</td>\n",
       "      <td>0.057641</td>\n",
       "    </tr>\n",
       "    <tr>\n",
       "      <th>2481</th>\n",
       "      <td>Me watching Law &amp;amp; Order (IB: @sauldale305)...</td>\n",
       "      <td>1</td>\n",
       "      <td>0</td>\n",
       "      <td>0.939052</td>\n",
       "      <td>0.060948</td>\n",
       "      <td>0.060948</td>\n",
       "    </tr>\n",
       "    <tr>\n",
       "      <th>1817</th>\n",
       "      <td>@brianroemmele UX fail of EMV - people want to...</td>\n",
       "      <td>1</td>\n",
       "      <td>0</td>\n",
       "      <td>0.937615</td>\n",
       "      <td>0.062385</td>\n",
       "      <td>0.062385</td>\n",
       "    </tr>\n",
       "    <tr>\n",
       "      <th>2522</th>\n",
       "      <td>going to redo my nails and watch behind the sc...</td>\n",
       "      <td>1</td>\n",
       "      <td>0</td>\n",
       "      <td>0.937561</td>\n",
       "      <td>0.062439</td>\n",
       "      <td>0.062439</td>\n",
       "    </tr>\n",
       "    <tr>\n",
       "      <th>7150</th>\n",
       "      <td>@volcano_tornado live somewhere else for a whi...</td>\n",
       "      <td>1</td>\n",
       "      <td>0</td>\n",
       "      <td>0.935883</td>\n",
       "      <td>0.064117</td>\n",
       "      <td>0.064117</td>\n",
       "    </tr>\n",
       "    <tr>\n",
       "      <th>6095</th>\n",
       "      <td>4 equipment ego break upon dig your family int...</td>\n",
       "      <td>1</td>\n",
       "      <td>0</td>\n",
       "      <td>0.930848</td>\n",
       "      <td>0.069152</td>\n",
       "      <td>0.069152</td>\n",
       "    </tr>\n",
       "    <tr>\n",
       "      <th>1277</th>\n",
       "      <td>burned 129 calories doing 24 minutes of Walkin...</td>\n",
       "      <td>1</td>\n",
       "      <td>0</td>\n",
       "      <td>0.926738</td>\n",
       "      <td>0.073262</td>\n",
       "      <td>0.073262</td>\n",
       "    </tr>\n",
       "    <tr>\n",
       "      <th>2807</th>\n",
       "      <td>Keeps askin me what this means\\nNot like i got...</td>\n",
       "      <td>1</td>\n",
       "      <td>0</td>\n",
       "      <td>0.922184</td>\n",
       "      <td>0.077816</td>\n",
       "      <td>0.077816</td>\n",
       "    </tr>\n",
       "    <tr>\n",
       "      <th>6108</th>\n",
       "      <td>Do you feel like you are sinking in low self-i...</td>\n",
       "      <td>1</td>\n",
       "      <td>0</td>\n",
       "      <td>0.921692</td>\n",
       "      <td>0.078308</td>\n",
       "      <td>0.078308</td>\n",
       "    </tr>\n",
       "    <tr>\n",
       "      <th>1321</th>\n",
       "      <td>@Michael5SOS haha so would you say its so hot ...</td>\n",
       "      <td>1</td>\n",
       "      <td>0</td>\n",
       "      <td>0.921433</td>\n",
       "      <td>0.078567</td>\n",
       "      <td>0.078567</td>\n",
       "    </tr>\n",
       "    <tr>\n",
       "      <th>4305</th>\n",
       "      <td>Hellfire is surrounded by desires so be carefu...</td>\n",
       "      <td>1</td>\n",
       "      <td>0</td>\n",
       "      <td>0.916852</td>\n",
       "      <td>0.083148</td>\n",
       "      <td>0.083148</td>\n",
       "    </tr>\n",
       "    <tr>\n",
       "      <th>3441</th>\n",
       "      <td>The Dress Memes Have Officially Exploded On Th...</td>\n",
       "      <td>1</td>\n",
       "      <td>0</td>\n",
       "      <td>0.915542</td>\n",
       "      <td>0.084458</td>\n",
       "      <td>0.084458</td>\n",
       "    </tr>\n",
       "    <tr>\n",
       "      <th>5411</th>\n",
       "      <td>all that panicking made me tired ;__; i want t...</td>\n",
       "      <td>1</td>\n",
       "      <td>0</td>\n",
       "      <td>0.914120</td>\n",
       "      <td>0.085880</td>\n",
       "      <td>0.085880</td>\n",
       "    </tr>\n",
       "  </tbody>\n",
       "</table>\n",
       "</div>"
      ],
      "text/plain": [
       "                                                   text  true_label  \\\n",
       "2260  Businesses are deluged with invoices. Make you...           1   \n",
       "6221                    I get to smoke my shit in peace           1   \n",
       "7203  Even if u have your weapon and your badge we g...           1   \n",
       "547   STAR WARS POWER OF THE JEDI COLLECTION 1 BATTL...           1   \n",
       "1005  'I did another one I did another one. You stil...           1   \n",
       "842            I call it a little bit of your blizzard?           1   \n",
       "3954  @adorableappple No reported flooding po in the...           0   \n",
       "4509                         My back is so sunburned :(           1   \n",
       "2481  Me watching Law &amp; Order (IB: @sauldale305)...           1   \n",
       "1817  @brianroemmele UX fail of EMV - people want to...           1   \n",
       "2522  going to redo my nails and watch behind the sc...           1   \n",
       "7150  @volcano_tornado live somewhere else for a whi...           1   \n",
       "6095  4 equipment ego break upon dig your family int...           1   \n",
       "1277  burned 129 calories doing 24 minutes of Walkin...           1   \n",
       "2807  Keeps askin me what this means\\nNot like i got...           1   \n",
       "6108  Do you feel like you are sinking in low self-i...           1   \n",
       "1321  @Michael5SOS haha so would you say its so hot ...           1   \n",
       "4305  Hellfire is surrounded by desires so be carefu...           1   \n",
       "3441  The Dress Memes Have Officially Exploded On Th...           1   \n",
       "5411  all that panicking made me tired ;__; i want t...           1   \n",
       "\n",
       "      predicted_label    prob_0    prob_1  correct_prob  \n",
       "2260                0  0.985819  0.014181      0.014181  \n",
       "6221                0  0.968958  0.031042      0.031042  \n",
       "7203                0  0.967421  0.032579      0.032579  \n",
       "547                 0  0.963794  0.036206      0.036206  \n",
       "1005                0  0.959786  0.040214      0.040214  \n",
       "842                 0  0.959138  0.040862      0.040862  \n",
       "3954                1  0.046159  0.953841      0.046159  \n",
       "4509                0  0.942359  0.057641      0.057641  \n",
       "2481                0  0.939052  0.060948      0.060948  \n",
       "1817                0  0.937615  0.062385      0.062385  \n",
       "2522                0  0.937561  0.062439      0.062439  \n",
       "7150                0  0.935883  0.064117      0.064117  \n",
       "6095                0  0.930848  0.069152      0.069152  \n",
       "1277                0  0.926738  0.073262      0.073262  \n",
       "2807                0  0.922184  0.077816      0.077816  \n",
       "6108                0  0.921692  0.078308      0.078308  \n",
       "1321                0  0.921433  0.078567      0.078567  \n",
       "4305                0  0.916852  0.083148      0.083148  \n",
       "3441                0  0.915542  0.084458      0.084458  \n",
       "5411                0  0.914120  0.085880      0.085880  "
      ]
     },
     "execution_count": 117,
     "metadata": {},
     "output_type": "execute_result"
    }
   ],
   "source": [
    "# Display the most wrong predictions\n",
    "print(\"\\nMost wrong predictions:\")\n",
    "most_wrong.head(20)"
   ]
  },
  {
   "cell_type": "code",
   "execution_count": null,
   "metadata": {},
   "outputs": [],
   "source": []
  }
 ],
 "metadata": {
  "kernelspec": {
   "display_name": "kaggle-asl",
   "language": "python",
   "name": "python3"
  },
  "language_info": {
   "codemirror_mode": {
    "name": "ipython",
    "version": 3
   },
   "file_extension": ".py",
   "mimetype": "text/x-python",
   "name": "python",
   "nbconvert_exporter": "python",
   "pygments_lexer": "ipython3",
   "version": "3.9.16"
  },
  "orig_nbformat": 4
 },
 "nbformat": 4,
 "nbformat_minor": 2
}
